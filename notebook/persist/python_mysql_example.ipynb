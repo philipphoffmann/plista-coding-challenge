{
 "cells": [
  {
   "cell_type": "code",
   "execution_count": null,
   "metadata": {},
   "outputs": [],
   "source": [
    "import pymysql\n",
    "\n",
    "connection = pymysql.connect(host='mysql',\n",
    "                             user='user',\n",
    "                             password='pass',\n",
    "                             db='db')"
   ]
  },
  {
   "cell_type": "code",
   "execution_count": null,
   "metadata": {},
   "outputs": [],
   "source": [
    "with connection.cursor() as cursor:\n",
    "    createTableQuery = \"CREATE TABLE IF NOT EXISTS `users` ( \\\n",
    "    `id` int(11) NOT NULL AUTO_INCREMENT, \\\n",
    "    `email` varchar(255) NOT NULL, \\\n",
    "    `name` varchar(255) NOT NULL, \\\n",
    "    PRIMARY KEY (`id`) \\\n",
    "    ) \\\n",
    "    AUTO_INCREMENT=1 ;\"\n",
    "\n",
    "    cursor.execute(createTableQuery)"
   ]
  },
  {
   "cell_type": "code",
   "execution_count": null,
   "metadata": {},
   "outputs": [],
   "source": [
    "with connection.cursor() as cursor:\n",
    "    # Create a new record\n",
    "    sql = \"INSERT INTO `users` (`email`, `name`) VALUES (%s, %s)\"\n",
    "    cursor.execute(sql, ('example@mail.org', 'name'))"
   ]
  },
  {
   "cell_type": "code",
   "execution_count": null,
   "metadata": {},
   "outputs": [],
   "source": [
    "with connection.cursor() as cursor:\n",
    "        # Read a single record\n",
    "        sql = \"SELECT `id`, `name` FROM `users` WHERE `email`=%s\"\n",
    "        cursor.execute(sql, ('example@mail.org',))\n",
    "        result = cursor.fetchone()\n",
    "        print(result)"
   ]
  },
  {
   "cell_type": "code",
   "execution_count": null,
   "metadata": {},
   "outputs": [],
   "source": [
    "with connection.cursor() as cursor:\n",
    "    cursor.execute(\"DROP TABLE IF EXISTS users\")"
   ]
  },
  {
   "cell_type": "code",
   "execution_count": null,
   "metadata": {},
   "outputs": [],
   "source": [
    "connection.close()"
   ]
  },
  {
   "cell_type": "code",
   "execution_count": null,
   "metadata": {},
   "outputs": [],
   "source": []
  }
 ],
 "metadata": {
  "kernelspec": {
   "display_name": "Python 3",
   "language": "python",
   "name": "python3"
  },
  "language_info": {
   "codemirror_mode": {
    "name": "ipython",
    "version": 3
   },
   "file_extension": ".py",
   "mimetype": "text/x-python",
   "name": "python",
   "nbconvert_exporter": "python",
   "pygments_lexer": "ipython3",
   "version": "3.7.3"
  }
 },
 "nbformat": 4,
 "nbformat_minor": 2
}
