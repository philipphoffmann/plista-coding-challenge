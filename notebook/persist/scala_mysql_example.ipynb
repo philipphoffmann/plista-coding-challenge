{
 "cells": [
  {
   "cell_type": "code",
   "execution_count": null,
   "metadata": {},
   "outputs": [],
   "source": [
    "%AddDeps mysql mysql-connector-java 5.1.12"
   ]
  },
  {
   "cell_type": "code",
   "execution_count": null,
   "metadata": {},
   "outputs": [],
   "source": [
    "import java.sql.{Connection, DriverManager, ResultSet}\n",
    "import scala.util.{Try, Failure}\n",
    "\n",
    "val url = \"jdbc:mysql://mysql:3306/db\"\n",
    "val username = \"user\"\n",
    "val pass = \"pass\"\n",
    "val driver = \"com.mysql.jdbc.Driver\"\n",
    "\n",
    "def getConnection(): Option[Connection] = {\n",
    "    Try {\n",
    "        Class.forName(driver).newInstance()\n",
    "        DriverManager.getConnection(url, username, pass)\n",
    "    } recoverWith { case e =>\n",
    "        println(\"ERROR while establishing mysql connection\")\n",
    "        e.printStackTrace()\n",
    "        Failure(e)\n",
    "    } toOption\n",
    "}\n",
    "\n",
    "for {conn <- getConnection()} {\n",
    "    conn.createStatement.executeUpdate(\"\"\"CREATE TABLE IF NOT EXISTS users (\n",
    "        id int(11) NOT NULL AUTO_INCREMENT,\n",
    "        email varchar(255) NOT NULL, \n",
    "        name varchar(255) NOT NULL,\n",
    "        PRIMARY KEY (id) \n",
    "        ) AUTO_INCREMENT=1 ;\"\"\")\n",
    "\n",
    "    val email = \"test@mail.com\"\n",
    "    val name = \"name\"\n",
    "    conn.createStatement.executeUpdate(s\"INSERT INTO users VALUES (default, '$email', '$name')\")\n",
    "\n",
    "    val rs = conn.createStatement.executeQuery(s\"SELECT id, name FROM users WHERE email='$email'\")\n",
    "    \n",
    "    while (rs.next()) {\n",
    "      println(s\"id:${rs.getInt(\"id\")}, name:${rs.getString(\"name\")}\")\n",
    "    }\n",
    "\n",
    "    conn.createStatement.executeUpdate(\"DROP TABLE IF EXISTS users\")\n",
    "    conn.close()\n",
    "}"
   ]
  },
  {
   "cell_type": "code",
   "execution_count": null,
   "metadata": {},
   "outputs": [],
   "source": []
  }
 ],
 "metadata": {
  "kernelspec": {
   "display_name": "Apache Toree - Scala",
   "language": "scala",
   "name": "apache_toree_scala"
  },
  "language_info": {
   "codemirror_mode": "text/x-scala",
   "file_extension": ".scala",
   "mimetype": "text/x-scala",
   "name": "scala",
   "pygments_lexer": "scala",
   "version": "2.11.12"
  }
 },
 "nbformat": 4,
 "nbformat_minor": 2
}
